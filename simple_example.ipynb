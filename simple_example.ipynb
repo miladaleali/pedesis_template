{
 "cells": [
  {
   "cell_type": "code",
   "execution_count": 1,
   "metadata": {},
   "outputs": [],
   "source": [
    "# import nest_asyncio to run async code in jupyter\n",
    "import nest_asyncio\n",
    "nest_asyncio.apply()\n",
    "\n",
    "# import all the necessary components for example\n",
    "import pretest as mock\n",
    "from datetime import datetime"
   ]
  },
  {
   "cell_type": "markdown",
   "metadata": {},
   "source": [
    "# Create Station project\n",
    "first time through, below command will create a folder called anything you said, in the current directory.\n",
    "\n",
    "> $ python -m pedesis start startstation {{station name}}\n",
    "\n",
    "# Create Engine project\n",
    "to add engine to the station, run the following command\n",
    "\n",
    "> $ python -m manage.py start startengine {{engine name}}\n",
    "\n",
    "# Custom Station setting\n",
    "in the directory of the station, you can find a file called settings.py, you can change the settings there.\n",
    "\n",
    "all the installed brokers, data sources, caches, databases and engines must be add in they proper place in the settings.py file.\n",
    "\n",
    "there is a sample settings.py file in the station folder.\n",
    "\n",
    "# Custom Engine setting\n",
    "in the directory of the engine, you can find a file called settings.py, you can change the settings there.\n",
    "\n",
    "most important setting that must add into this file is all the symbol name you add to router.py file and want to use in the engine in the INSTALLED_SYMBOLS list.\n",
    "\n",
    "# Engine Router file \n",
    "this file is the most important file in the engine, it is the file that you can add your own strategy to the engine.\n",
    "\n",
    "in this file, there is a class named BaseSymbol, this class inherit from the class named SymbolRouter that control symbols. define the components you want to use in all symbols in the this class.\n",
    "\n",
    "for each symbol that you want use in the engine, you must create a class that inherit from the BaseSymbol class and if want to custom some component that defined in BaseSymbol, you can use Custom_{{component name}} class attr in the desire symbol class.\n",
    "\n",
    "# Custom Engine components\n",
    "Components are divided into default and custom categories. The default section that is defined in the templates folder of each component in the pedesis library. For the custom component, we can define any component we want in its own file in the engine folder.\n",
    "\n",
    "for example if you want to create a new signal generator template, you can define it in engine folder, generator.py file and use it in router.py file.\n",
    "\n",
    "# Run Bot\n",
    "after define all the settings and components, you can run the bot step by step: \n",
    "## Run Celery\n",
    "celery use in task managing and scheduling, you can run it by the following command:\n",
    "\n",
    "> $ python -m manage start celery\n",
    "\n",
    "if you want to access celery panel, you can run the following command:\n",
    "> $ python -m manage start celeryflower\n",
    "\n",
    "## Run Station\n",
    "There are two modes to run the station, the first mode when we want to do this for the first time, in this mode we execute the first command, otherwise we execute the second command.\n",
    "The first command also executes the database creation process and other things that are needed for the first time.\n",
    "\n",
    "### First command\n",
    "> $ python -m manage start newstation\n",
    "\n",
    "### Second command\n",
    "> $ python -m manage start station\n",
    "\n",
    "\n"
   ]
  },
  {
   "cell_type": "code",
   "execution_count": 1,
   "metadata": {},
   "outputs": [],
   "source": [
    "import pandas_ta as pdt"
   ]
  },
  {
   "cell_type": "code",
   "execution_count": 5,
   "metadata": {},
   "outputs": [],
   "source": [
    "import pickle\n",
    "\n",
    "df = pickle.load(open(\"back_datas/1_future__ADAUSDT@1d.pkl\", 'rb'))"
   ]
  },
  {
   "cell_type": "code",
   "execution_count": 15,
   "metadata": {},
   "outputs": [],
   "source": [
    "from datetime import datetime\n",
    "df.index = map(lambda x: datetime.fromtimestamp(x/1000), df.index)"
   ]
  },
  {
   "cell_type": "code",
   "execution_count": 16,
   "metadata": {},
   "outputs": [],
   "source": [
    "ichi = pdt.ichimoku(high=df['high'], low=df['low'], close=df['close'])"
   ]
  },
  {
   "cell_type": "code",
   "execution_count": 18,
   "metadata": {},
   "outputs": [
    {
     "data": {
      "text/html": [
       "<div>\n",
       "<style scoped>\n",
       "    .dataframe tbody tr th:only-of-type {\n",
       "        vertical-align: middle;\n",
       "    }\n",
       "\n",
       "    .dataframe tbody tr th {\n",
       "        vertical-align: top;\n",
       "    }\n",
       "\n",
       "    .dataframe thead th {\n",
       "        text-align: right;\n",
       "    }\n",
       "</style>\n",
       "<table border=\"1\" class=\"dataframe\">\n",
       "  <thead>\n",
       "    <tr style=\"text-align: right;\">\n",
       "      <th></th>\n",
       "      <th>ISA_9</th>\n",
       "      <th>ISB_26</th>\n",
       "      <th>ITS_9</th>\n",
       "      <th>IKS_26</th>\n",
       "      <th>ICS_26</th>\n",
       "    </tr>\n",
       "  </thead>\n",
       "  <tbody>\n",
       "    <tr>\n",
       "      <th>2020-03-10 09:00:00</th>\n",
       "      <td>NaN</td>\n",
       "      <td>NaN</td>\n",
       "      <td>NaN</td>\n",
       "      <td>NaN</td>\n",
       "      <td>0.02406</td>\n",
       "    </tr>\n",
       "    <tr>\n",
       "      <th>2020-03-11 00:00:00</th>\n",
       "      <td>NaN</td>\n",
       "      <td>NaN</td>\n",
       "      <td>NaN</td>\n",
       "      <td>NaN</td>\n",
       "      <td>0.02406</td>\n",
       "    </tr>\n",
       "    <tr>\n",
       "      <th>2020-03-12 00:00:00</th>\n",
       "      <td>NaN</td>\n",
       "      <td>NaN</td>\n",
       "      <td>NaN</td>\n",
       "      <td>NaN</td>\n",
       "      <td>0.02406</td>\n",
       "    </tr>\n",
       "    <tr>\n",
       "      <th>2020-03-13 00:00:00</th>\n",
       "      <td>NaN</td>\n",
       "      <td>NaN</td>\n",
       "      <td>NaN</td>\n",
       "      <td>NaN</td>\n",
       "      <td>0.02406</td>\n",
       "    </tr>\n",
       "    <tr>\n",
       "      <th>2020-03-14 00:00:00</th>\n",
       "      <td>NaN</td>\n",
       "      <td>NaN</td>\n",
       "      <td>NaN</td>\n",
       "      <td>NaN</td>\n",
       "      <td>0.02406</td>\n",
       "    </tr>\n",
       "    <tr>\n",
       "      <th>...</th>\n",
       "      <td>...</td>\n",
       "      <td>...</td>\n",
       "      <td>...</td>\n",
       "      <td>...</td>\n",
       "      <td>...</td>\n",
       "    </tr>\n",
       "    <tr>\n",
       "      <th>2022-09-07 00:00:00</th>\n",
       "      <td>0.511267</td>\n",
       "      <td>0.479115</td>\n",
       "      <td>0.475515</td>\n",
       "      <td>0.50907</td>\n",
       "      <td>NaN</td>\n",
       "    </tr>\n",
       "    <tr>\n",
       "      <th>2022-09-08 00:00:00</th>\n",
       "      <td>0.521443</td>\n",
       "      <td>0.484830</td>\n",
       "      <td>0.476700</td>\n",
       "      <td>0.50907</td>\n",
       "      <td>NaN</td>\n",
       "    </tr>\n",
       "    <tr>\n",
       "      <th>2022-09-09 00:00:00</th>\n",
       "      <td>0.535530</td>\n",
       "      <td>0.498270</td>\n",
       "      <td>0.476700</td>\n",
       "      <td>0.50309</td>\n",
       "      <td>NaN</td>\n",
       "    </tr>\n",
       "    <tr>\n",
       "      <th>2022-09-10 00:00:00</th>\n",
       "      <td>0.535530</td>\n",
       "      <td>0.498270</td>\n",
       "      <td>0.486385</td>\n",
       "      <td>0.50309</td>\n",
       "      <td>NaN</td>\n",
       "    </tr>\n",
       "    <tr>\n",
       "      <th>2022-09-11 00:00:00</th>\n",
       "      <td>0.535530</td>\n",
       "      <td>0.498270</td>\n",
       "      <td>0.488960</td>\n",
       "      <td>0.50309</td>\n",
       "      <td>NaN</td>\n",
       "    </tr>\n",
       "  </tbody>\n",
       "</table>\n",
       "<p>916 rows × 5 columns</p>\n",
       "</div>"
      ],
      "text/plain": [
       "                        ISA_9    ISB_26     ITS_9   IKS_26   ICS_26\n",
       "2020-03-10 09:00:00       NaN       NaN       NaN      NaN  0.02406\n",
       "2020-03-11 00:00:00       NaN       NaN       NaN      NaN  0.02406\n",
       "2020-03-12 00:00:00       NaN       NaN       NaN      NaN  0.02406\n",
       "2020-03-13 00:00:00       NaN       NaN       NaN      NaN  0.02406\n",
       "2020-03-14 00:00:00       NaN       NaN       NaN      NaN  0.02406\n",
       "...                       ...       ...       ...      ...      ...\n",
       "2022-09-07 00:00:00  0.511267  0.479115  0.475515  0.50907      NaN\n",
       "2022-09-08 00:00:00  0.521443  0.484830  0.476700  0.50907      NaN\n",
       "2022-09-09 00:00:00  0.535530  0.498270  0.476700  0.50309      NaN\n",
       "2022-09-10 00:00:00  0.535530  0.498270  0.486385  0.50309      NaN\n",
       "2022-09-11 00:00:00  0.535530  0.498270  0.488960  0.50309      NaN\n",
       "\n",
       "[916 rows x 5 columns]"
      ]
     },
     "execution_count": 18,
     "metadata": {},
     "output_type": "execute_result"
    }
   ],
   "source": [
    "ichi[0]"
   ]
  },
  {
   "cell_type": "code",
   "execution_count": 25,
   "metadata": {},
   "outputs": [
    {
     "data": {
      "text/plain": [
       "2020-03-10 09:00:00          NaN\n",
       "2020-03-11 00:00:00          NaN\n",
       "2020-03-12 00:00:00          NaN\n",
       "2020-03-13 00:00:00          NaN\n",
       "2020-03-14 00:00:00          NaN\n",
       "                         ...    \n",
       "2022-09-07 00:00:00    50.259826\n",
       "2022-09-08 00:00:00    50.312262\n",
       "2022-09-09 00:00:00    55.655538\n",
       "2022-09-10 00:00:00    57.713001\n",
       "2022-09-11 00:00:00    57.067716\n",
       "Name: RSI_14, Length: 916, dtype: float64"
      ]
     },
     "execution_count": 25,
     "metadata": {},
     "output_type": "execute_result"
    }
   ],
   "source": [
    "pdt.rsi(df.close)"
   ]
  },
  {
   "cell_type": "code",
   "execution_count": 26,
   "metadata": {},
   "outputs": [
    {
     "data": {
      "text/plain": [
       "2020-03-10 09:00:00         NaN\n",
       "2020-03-11 00:00:00         NaN\n",
       "2020-03-12 00:00:00         NaN\n",
       "2020-03-13 00:00:00         NaN\n",
       "2020-03-14 00:00:00         NaN\n",
       "                         ...   \n",
       "2022-09-07 00:00:00    0.511267\n",
       "2022-09-08 00:00:00    0.521443\n",
       "2022-09-09 00:00:00    0.535530\n",
       "2022-09-10 00:00:00    0.535530\n",
       "2022-09-11 00:00:00    0.535530\n",
       "Name: ISA_9, Length: 916, dtype: float64"
      ]
     },
     "execution_count": 26,
     "metadata": {},
     "output_type": "execute_result"
    }
   ],
   "source": [
    "ichi[0].ISA_9"
   ]
  },
  {
   "cell_type": "code",
   "execution_count": 7,
   "metadata": {},
   "outputs": [],
   "source": [
    "from pydantic import (\n",
    "    BaseSettings,\n",
    "    PostgresDsn,\n",
    "    RedisDsn,\n",
    "    Field,\n",
    ")\n",
    "\n",
    "class Settings(BaseSettings):\n",
    "    api_key: str = Field(..., env=\"api_key\")\n",
    "    secret_key: str = Field(..., env='secret_key')\n",
    "    redis_uri: RedisDsn\n",
    "    postgres_uri: PostgresDsn = Field(..., env='postgres')\n",
    "\n",
    "    class Config:\n",
    "        env_prefix = 'PEDESIS_'\n",
    "        env_file = '.env'\n",
    "        env_file_encoding = 'utf-8'\n",
    "        fields = {\n",
    "            'redis_uri': {\n",
    "                'env': 'redis'\n",
    "            }\n",
    "        }\n",
    "    \n",
    "    def get_redis(self):\n",
    "        return self.redis_uri"
   ]
  },
  {
   "cell_type": "code",
   "execution_count": 8,
   "metadata": {},
   "outputs": [],
   "source": [
    "settings = Settings()"
   ]
  },
  {
   "cell_type": "code",
   "execution_count": 10,
   "metadata": {},
   "outputs": [
    {
     "data": {
      "text/plain": [
       "RedisDsn('redis://localhost:6279/10', scheme='redis', host='localhost', host_type='int_domain', port='6279', path='/10')"
      ]
     },
     "execution_count": 10,
     "metadata": {},
     "output_type": "execute_result"
    }
   ],
   "source": [
    "settings.get_redis()"
   ]
  },
  {
   "cell_type": "code",
   "execution_count": null,
   "metadata": {},
   "outputs": [],
   "source": []
  }
 ],
 "metadata": {
  "kernelspec": {
   "display_name": ".venv",
   "language": "python",
   "name": "python3"
  },
  "language_info": {
   "codemirror_mode": {
    "name": "ipython",
    "version": 3
   },
   "file_extension": ".py",
   "mimetype": "text/x-python",
   "name": "python",
   "nbconvert_exporter": "python",
   "pygments_lexer": "ipython3",
   "version": "3.10.8"
  },
  "orig_nbformat": 4,
  "vscode": {
   "interpreter": {
    "hash": "7c061b5ff2272851e338aa5da8ce03fab0520e54327683060241b2d83a78c68e"
   }
  }
 },
 "nbformat": 4,
 "nbformat_minor": 2
}
